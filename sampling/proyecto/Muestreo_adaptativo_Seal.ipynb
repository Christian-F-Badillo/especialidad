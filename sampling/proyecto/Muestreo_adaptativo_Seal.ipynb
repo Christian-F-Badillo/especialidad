{
 "cells": [
  {
   "cell_type": "markdown",
   "metadata": {},
   "source": [
    "# Otro Ejemplo\n",
    "\n",
    "Este ejemplo se dearrolló en el lenguaje `Julia` como una implementación del algoritmo antes mencionado. Para ello se construyeron datos que estuvieran en grupos aislados, posteriormente se realiza un tratamiento que nos permitió extraer una muestra adaptativa por clouster.\n",
    "\n",
    "1. En la primera parte de este ejemplo se contruyeron las funciones necesarias para este método\n",
    "    - la función `vecindad` que nos da los vecinos de un elemento seleccionado en una matriz, se considera periosidad en la frontera para facilidar los cálculos\n",
    "    - la función `crece` guarda las unidades que puede crecer una unidad incial, hasta tener unidades de borde.\n",
    "    - finalmente la función `redes`  nos da las $m_i$ y $y_i$ de $i$ unidades iniciales      \n",
    "\n",
    "2. En la segunda parte del ejemplo, visualizamos los datos y contamos cuántos datos hay en cada unidad, este conteo lo realizamos en una matriz, los que nos permite llamar a cada elemento de la matriz como $u_i$\n",
    "\n",
    "3. Finalmente aplicamos nuestras funciones y visualizamos como las muestras crecieron bajo la condición de la unidad, esta es si $u_i > C$ con $C$ una constante. Agrupamos nuestros resultados en una tabla y calculamos el estimador de la media según lo visto en la explicación."
   ]
  },
  {
   "cell_type": "markdown",
   "metadata": {},
   "source": [
    "### Funciones"
   ]
  },
  {
   "cell_type": "code",
   "execution_count": 2,
   "metadata": {},
   "outputs": [],
   "source": [
    "#Cargamos paqueterias\n",
    "using Plots, Statistics,CSV, DataFrames\n",
    "using LinearAlgebra\n",
    "using ColorSchemes"
   ]
  },
  {
   "cell_type": "code",
   "execution_count": 3,
   "metadata": {},
   "outputs": [
    {
     "data": {
      "text/plain": [
       "vecindad (generic function with 1 method)"
      ]
     },
     "execution_count": 3,
     "metadata": {},
     "output_type": "execute_result"
    }
   ],
   "source": [
    "#dado un  elementos quiero conocer sus vecinos, Matriz y coordenada de la unidad \n",
    "function vecindad(M,ui)\n",
    "\tn,m= size(M) \n",
    "\tvecino(k,a)= mod1(k,a) #vecinos con periocidad\n",
    "\n",
    "    i= ui[1]\n",
    "    j= ui[2]\n",
    "\n",
    "\tvecinos= [  M[vecino(i-1,n), j], \n",
    "\t\t\t    M[vecino(i+1,n), j], \n",
    "\t\t\t    M[i, vecino(j-1,m)], \n",
    "\t\t        M[i, vecino(j+1,m)]]\n",
    "\t\n",
    "\tcoordenadas= [ (vecino(i-1,n), j), \n",
    "\t\t\t\t\t(vecino(i+1,n), j), \n",
    "\t\t\t\t\t(i, vecino(j-1,m)), \n",
    "\t\t\t\t\t(i, vecino(j+1,m))]\n",
    "\n",
    "\treturn vecinos, coordenadas\n",
    "end"
   ]
  },
  {
   "cell_type": "code",
   "execution_count": 4,
   "metadata": {},
   "outputs": [
    {
     "data": {
      "text/plain": [
       "crece (generic function with 1 method)"
      ]
     },
     "execution_count": 4,
     "metadata": {},
     "output_type": "execute_result"
    }
   ],
   "source": [
    "# La función que crecerá según un valor C, me arroja coordenas en la matriz\n",
    "\n",
    "function crece(U, s_i, C)\n",
    "\n",
    "visitados= Set()\n",
    "cola= [s_i]\n",
    "Ci=[s_i]  \n",
    "\n",
    "while !isempty(cola)\n",
    "    celda = popfirst!(cola)\n",
    "\n",
    "    if celda in visitados\n",
    "        continue\n",
    "    end\n",
    "\n",
    "    push!(visitados, celda)\n",
    "\n",
    "    x,y = celda\n",
    "    if U[x,y] > C\n",
    "        push!(Ci, celda)\n",
    "\n",
    "        vecinos = vecindad(U, celda)\n",
    "        for i in 1:4\n",
    "            if vecinos[2][i] ∉ visitados\n",
    "                push!(cola, vecinos[2][i])\n",
    "            end\n",
    "        end\n",
    "  \n",
    "    end\n",
    "end\n",
    "return unique(Ci)\n",
    "\n",
    "end\n",
    "\n"
   ]
  },
  {
   "cell_type": "code",
   "execution_count": 5,
   "metadata": {},
   "outputs": [
    {
     "data": {
      "text/plain": [
       "redes (generic function with 1 method)"
      ]
     },
     "execution_count": 5,
     "metadata": {},
     "output_type": "execute_result"
    }
   ],
   "source": [
    "function redes(U, mas, C)\n",
    "    l = length(mas)\n",
    "    mi =  []\n",
    "    y = []\n",
    "    ni= []\n",
    "    \n",
    "\n",
    "    for i in 1:l\n",
    "        r= crece(U,mas[i],C)\n",
    "        n= length(r)\n",
    "        mi= push!(mi,n)\n",
    "        yi= [U[r[j][1],r[j][2]] for j in 1:n] \n",
    "        y= push!(y,yi)\n",
    "        ni= push!(ni, r)\n",
    "    end\n",
    "    \n",
    "    return  mi,  y, ni\n",
    "end"
   ]
  },
  {
   "cell_type": "markdown",
   "metadata": {},
   "source": [
    "### Graficamos datos "
   ]
  },
  {
   "cell_type": "code",
   "execution_count": 15,
   "metadata": {},
   "outputs": [
    {
     "data": {
      "text/plain": [
       "\"/home/quicho/Escritorio/especialidad/sampling/proyecto/img/Datosejem3.png\""
      ]
     },
     "execution_count": 15,
     "metadata": {},
     "output_type": "execute_result"
    }
   ],
   "source": [
    "#Cargamos datos y graficamos\n",
    "data = DataFrame(CSV.File(\"data.csv\"))\n",
    "\n",
    "scatter(data.x,data.y, ratio= 1, color= \"purple\", label= \"\", title= \"Datos\")\n",
    "\n",
    "savefig(\"~/Escritorio/especialidad/sampling/proyecto/img/Datosejem3.png\")"
   ]
  },
  {
   "cell_type": "markdown",
   "metadata": {},
   "source": [
    "Contamos estos datos por unidad en el plano y lo representamos como una matriz $U = \\{u_1,u_2, \\cdots, u_N\\}$"
   ]
  },
  {
   "cell_type": "code",
   "execution_count": 7,
   "metadata": {},
   "outputs": [
    {
     "data": {
      "text/plain": [
       "20×20 Matrix{Int64}:\n",
       "  0  0   0  0   0   0  0  0  0  0  0   0   0   0   0   0   0   0  0  0\n",
       " 15  8   0  0   0   0  0  0  0  0  0   0   5   5   0   0   0   0  0  0\n",
       "  0  6   0  0   0   0  0  0  0  0  0   5   5   5   6   5   0   0  0  0\n",
       "  0  0   0  0   0   0  0  0  0  5  0   5  15  11   0  10   0   0  0  0\n",
       "  0  0   0  0   0   0  0  0  0  0  0   5  20  15  11  11   0   0  0  0\n",
       "  0  0   0  0   0   0  0  0  0  0  0  10   5   0  20  14   0   0  0  0\n",
       "  0  0   0  0   0   0  0  0  0  0  0   0   0   0   0   0   5   0  0  0\n",
       "  0  0   5  0   0   0  0  0  0  0  0   0   0   0   0   0   0   0  0  0\n",
       "  0  0   0  0   0   0  0  0  0  0  0   0   0   0   5   0   0   0  0  0\n",
       "  0  0  10  7  16   6  0  0  0  0  0   0   0   0   0   0   0   0  0  0\n",
       "  0  0   0  6   2   6  0  0  0  0  0   0   0   2   0   0   0   0  0  0\n",
       "  0  0  10  8  18  12  2  0  0  0  0   0   0   0   2   0   0   0  0  0\n",
       "  0  0   4  2   0   0  0  0  0  0  0   0   0   0   0   0   0   0  0  0\n",
       "  0  0   0  0   0   0  0  0  0  0  0   0   0   0   4  21  14  16  0  0\n",
       "  0  0   0  0   0   4  4  0  0  0  0   0   0   4  15   5   0   0  0  0\n",
       "  0  0   0  0   0   0  0  0  0  0  0   0   0   0   0   0   0   0  0  0\n",
       "  0  0   0  0   0   0  0  0  0  0  0   0   4   0   0   0   0   0  0  0\n",
       "  0  0   0  0   0   0  0  0  0  0  0   0   0   0   0   0   0   0  5  0\n",
       "  0  0   0  0   0   0  0  0  0  0  0   0   0   0   0   0   0   0  0  0\n",
       "  0  0   0  0   0   0  0  0  0  0  0   0   0   0   0   0   0   0  0  0"
      ]
     },
     "execution_count": 7,
     "metadata": {},
     "output_type": "execute_result"
    }
   ],
   "source": [
    "#una matriz para almacenar las cuentas\n",
    "U = zeros(Int, 20, 20) #unidades\n",
    "\n",
    "x_i = floor.(Int, data.x)  \n",
    "y_i = floor.(Int, data.y)  \n",
    "\n",
    "for (i, j) in zip(x_i, y_i)\n",
    "    if 1 <= i <= 20 && 1 <= j <= 20\n",
    "        U[i, j] += 1\n",
    "    end\n",
    "end\n",
    "\n",
    "U"
   ]
  },
  {
   "cell_type": "markdown",
   "metadata": {},
   "source": [
    "Representamos esta matriz como un mapa de calor"
   ]
  },
  {
   "cell_type": "code",
   "execution_count": 16,
   "metadata": {},
   "outputs": [
    {
     "data": {
      "text/plain": [
       "\"/home/quicho/Escritorio/especialidad/sampling/proyecto/img/Datosunidadejem3.png\""
      ]
     },
     "execution_count": 16,
     "metadata": {},
     "output_type": "execute_result"
    }
   ],
   "source": [
    "#  mapa de calor\n",
    "custom_colormap = cgrad([:white, :blue, :green, :yellow, :red], [0.0, 0.1, 0.4, 0.7, 1.0])\n",
    "\n",
    "mapa_calor= heatmap(\n",
    "    U,\n",
    "    title = \"Datos en cada unidad\",\n",
    "    xlabel = \"x\",\n",
    "    ylabel = \"y\",\n",
    "    color = custom_colormap,\n",
    "    clims = (0, maximum(U)), \n",
    "    aspect_ratio = 1          \n",
    ")\n",
    "\n",
    "savefig(\"~/Escritorio/especialidad/sampling/proyecto/img/Datosunidadejem3.png\")"
   ]
  },
  {
   "cell_type": "markdown",
   "metadata": {},
   "source": [
    "**Seleccionamos $i$ unidades con m.a.s**"
   ]
  },
  {
   "cell_type": "code",
   "execution_count": 9,
   "metadata": {},
   "outputs": [],
   "source": [
    "mas= [(rand(1:20), rand(1:20)) for i in 1:13];  #13 unidades"
   ]
  },
  {
   "cell_type": "code",
   "execution_count": 10,
   "metadata": {},
   "outputs": [
    {
     "data": {
      "text/plain": [
       "(Any[1, 1, 1, 20, 11, 1, 1, 1, 1, 1, 1, 1, 1], Any[[0], [0], [0], [10, 5, 11, 6, 14, 11, 5, 20, 15, 5, 11, 5, 20, 5, 15, 5, 5, 5, 5, 10], [10, 7, 6, 16, 8, 6, 10, 18, 6, 4, 12], [0], [0], [0], [0], [5], [0], [0], [0]], Any[[(11, 15)], [(2, 7)], [(20, 14)], [(4, 16), (3, 16), (5, 16), (3, 15), (6, 16), (5, 15), (3, 14), (6, 15), (5, 14), (2, 14), (4, 14), (3, 13), (5, 13), (2, 13), (4, 13), (3, 12), (6, 13), (5, 12), (4, 12), (6, 12)], [(10, 3), (10, 4), (11, 4), (10, 5), (12, 4), (10, 6), (12, 3), (12, 5), (11, 6), (13, 3), (12, 6)], [(16, 3)], [(18, 11)], [(4, 19)], [(5, 8)], [(8, 3)], [(9, 14)], [(14, 6)], [(19, 2)]])"
      ]
     },
     "execution_count": 10,
     "metadata": {},
     "output_type": "execute_result"
    }
   ],
   "source": [
    "muestra = redes(U, mas, 3)"
   ]
  },
  {
   "cell_type": "markdown",
   "metadata": {},
   "source": [
    "Visualizamos en el mapa de calor como avanzó cada unidad inicial, notaremos que solo una de ellas tenía vecinos que cumplian la condición de $u_i > C=3$ y se detuvo cuando tenia unidades de borde"
   ]
  },
  {
   "cell_type": "code",
   "execution_count": 17,
   "metadata": {},
   "outputs": [
    {
     "data": {
      "text/plain": [
       "\"/home/quicho/Escritorio/especialidad/sampling/proyecto/img/Samplingejem3.png\""
      ]
     },
     "execution_count": 17,
     "metadata": {},
     "output_type": "execute_result"
    }
   ],
   "source": [
    "function resaltar_zona(zona)\n",
    "    xs = [x for (x, y) in zona]\n",
    "    ys = [y for (x, y) in zona]\n",
    "    scatter!(ys, xs, label= \"\")\n",
    "end\n",
    "\n",
    "mapa_calor\n",
    "\n",
    "resaltar_zona.(muestra[3])\n",
    "plot!(title= \"Crecimiento de u_i\")\n",
    "\n",
    "savefig(\"~/Escritorio/especialidad/sampling/proyecto/img/Samplingejem3.png\")"
   ]
  },
  {
   "cell_type": "markdown",
   "metadata": {},
   "source": [
    "Finalmente agregamos nuestros resultados a una tabla "
   ]
  },
  {
   "cell_type": "code",
   "execution_count": 12,
   "metadata": {},
   "outputs": [
    {
     "data": {
      "text/html": [
       "<div><div style = \"float: left;\"><span>13×3 DataFrame</span></div><div style = \"clear: both;\"></div></div><div class = \"data-frame\" style = \"overflow-x: scroll;\"><table class = \"data-frame\" style = \"margin-bottom: 6px;\"><thead><tr class = \"header\"><th class = \"rowNumber\" style = \"font-weight: bold; text-align: right;\">Row</th><th style = \"text-align: left;\">m_i</th><th style = \"text-align: left;\">y_i</th><th style = \"text-align: left;\">w_i</th></tr><tr class = \"subheader headerLastRow\"><th class = \"rowNumber\" style = \"font-weight: bold; text-align: right;\"></th><th title = \"Any\" style = \"text-align: left;\">Any</th><th title = \"Any\" style = \"text-align: left;\">Any</th><th title = \"Float64\" style = \"text-align: left;\">Float64</th></tr></thead><tbody><tr><td class = \"rowNumber\" style = \"font-weight: bold; text-align: right;\">1</td><td style = \"text-align: left;\">1</td><td style = \"text-align: left;\">[0]</td><td style = \"text-align: right;\">0.0</td></tr><tr><td class = \"rowNumber\" style = \"font-weight: bold; text-align: right;\">2</td><td style = \"text-align: left;\">1</td><td style = \"text-align: left;\">[0]</td><td style = \"text-align: right;\">0.0</td></tr><tr><td class = \"rowNumber\" style = \"font-weight: bold; text-align: right;\">3</td><td style = \"text-align: left;\">1</td><td style = \"text-align: left;\">[0]</td><td style = \"text-align: right;\">0.0</td></tr><tr><td class = \"rowNumber\" style = \"font-weight: bold; text-align: right;\">4</td><td style = \"text-align: left;\">20</td><td style = \"text-align: left;\">[10, 5, 11, 6, 14, 11, 5, 20, 15, 5, 11, 5, 20, 5, 15, 5, 5, 5, 5, 10]</td><td style = \"text-align: right;\">9.4</td></tr><tr><td class = \"rowNumber\" style = \"font-weight: bold; text-align: right;\">5</td><td style = \"text-align: left;\">11</td><td style = \"text-align: left;\">[10, 7, 6, 16, 8, 6, 10, 18, 6, 4, 12]</td><td style = \"text-align: right;\">9.36364</td></tr><tr><td class = \"rowNumber\" style = \"font-weight: bold; text-align: right;\">6</td><td style = \"text-align: left;\">1</td><td style = \"text-align: left;\">[0]</td><td style = \"text-align: right;\">0.0</td></tr><tr><td class = \"rowNumber\" style = \"font-weight: bold; text-align: right;\">7</td><td style = \"text-align: left;\">1</td><td style = \"text-align: left;\">[0]</td><td style = \"text-align: right;\">0.0</td></tr><tr><td class = \"rowNumber\" style = \"font-weight: bold; text-align: right;\">8</td><td style = \"text-align: left;\">1</td><td style = \"text-align: left;\">[0]</td><td style = \"text-align: right;\">0.0</td></tr><tr><td class = \"rowNumber\" style = \"font-weight: bold; text-align: right;\">9</td><td style = \"text-align: left;\">1</td><td style = \"text-align: left;\">[0]</td><td style = \"text-align: right;\">0.0</td></tr><tr><td class = \"rowNumber\" style = \"font-weight: bold; text-align: right;\">10</td><td style = \"text-align: left;\">1</td><td style = \"text-align: left;\">[5]</td><td style = \"text-align: right;\">5.0</td></tr><tr><td class = \"rowNumber\" style = \"font-weight: bold; text-align: right;\">11</td><td style = \"text-align: left;\">1</td><td style = \"text-align: left;\">[0]</td><td style = \"text-align: right;\">0.0</td></tr><tr><td class = \"rowNumber\" style = \"font-weight: bold; text-align: right;\">12</td><td style = \"text-align: left;\">1</td><td style = \"text-align: left;\">[0]</td><td style = \"text-align: right;\">0.0</td></tr><tr><td class = \"rowNumber\" style = \"font-weight: bold; text-align: right;\">13</td><td style = \"text-align: left;\">1</td><td style = \"text-align: left;\">[0]</td><td style = \"text-align: right;\">0.0</td></tr></tbody></table></div>"
      ],
      "text/latex": [
       "\\begin{tabular}{r|ccc}\n",
       "\t& m\\_i & y\\_i & w\\_i\\\\\n",
       "\t\\hline\n",
       "\t& Any & Any & Float64\\\\\n",
       "\t\\hline\n",
       "\t1 & 1 & [0] & 0.0 \\\\\n",
       "\t2 & 1 & [0] & 0.0 \\\\\n",
       "\t3 & 1 & [0] & 0.0 \\\\\n",
       "\t4 & 20 & [10, 5, 11, 6, 14, 11, 5, 20, 15, 5, 11, 5, 20, 5, 15, 5, 5, 5, 5, 10] & 9.4 \\\\\n",
       "\t5 & 11 & [10, 7, 6, 16, 8, 6, 10, 18, 6, 4, 12] & 9.36364 \\\\\n",
       "\t6 & 1 & [0] & 0.0 \\\\\n",
       "\t7 & 1 & [0] & 0.0 \\\\\n",
       "\t8 & 1 & [0] & 0.0 \\\\\n",
       "\t9 & 1 & [0] & 0.0 \\\\\n",
       "\t10 & 1 & [5] & 5.0 \\\\\n",
       "\t11 & 1 & [0] & 0.0 \\\\\n",
       "\t12 & 1 & [0] & 0.0 \\\\\n",
       "\t13 & 1 & [0] & 0.0 \\\\\n",
       "\\end{tabular}\n"
      ],
      "text/plain": [
       "\u001b[1m13×3 DataFrame\u001b[0m\n",
       "\u001b[1m Row \u001b[0m│\u001b[1m m_i \u001b[0m\u001b[1m y_i                               \u001b[0m\u001b[1m w_i     \u001b[0m\n",
       "     │\u001b[90m Any \u001b[0m\u001b[90m Any                               \u001b[0m\u001b[90m Float64 \u001b[0m\n",
       "─────┼─────────────────────────────────────────────────\n",
       "   1 │ 1    [0]                                0.0\n",
       "   2 │ 1    [0]                                0.0\n",
       "   3 │ 1    [0]                                0.0\n",
       "   4 │ 20   [10, 5, 11, 6, 14, 11, 5, 20, 15…  9.4\n",
       "   5 │ 11   [10, 7, 6, 16, 8, 6, 10, 18, 6, …  9.36364\n",
       "   6 │ 1    [0]                                0.0\n",
       "   7 │ 1    [0]                                0.0\n",
       "   8 │ 1    [0]                                0.0\n",
       "   9 │ 1    [0]                                0.0\n",
       "  10 │ 1    [5]                                5.0\n",
       "  11 │ 1    [0]                                0.0\n",
       "  12 │ 1    [0]                                0.0\n",
       "  13 │ 1    [0]                                0.0"
      ]
     },
     "execution_count": 12,
     "metadata": {},
     "output_type": "execute_result"
    }
   ],
   "source": [
    "wi= [(1/muestra[1][i]) * sum(muestra[2][i]) for i in 1:13]\n",
    "\n",
    "resultados= DataFrame(\n",
    "    m_i = muestra[1],\n",
    "    y_i = muestra[2],\n",
    "    w_i = wi \n",
    ")"
   ]
  },
  {
   "cell_type": "code",
   "execution_count": 13,
   "metadata": {},
   "outputs": [
    {
     "data": {
      "text/plain": [
       "\"resultados_ejemplo3.csv\""
      ]
     },
     "execution_count": 13,
     "metadata": {},
     "output_type": "execute_result"
    }
   ],
   "source": [
    "#guardamos la tabla\n",
    "CSV.write(\"resultados_ejemplo3.csv\", resultados)"
   ]
  },
  {
   "cell_type": "markdown",
   "metadata": {},
   "source": [
    "Con esto podemos estimar la media $\\hat{\\mu}$ con su respectiva varianza"
   ]
  },
  {
   "cell_type": "code",
   "execution_count": 14,
   "metadata": {},
   "outputs": [
    {
     "name": "stdout",
     "output_type": "stream",
     "text": [
      "La media estimada= 0.5658008658008659\n",
      "Con varianza=0.09267481341125286"
     ]
    }
   ],
   "source": [
    "N= 20*20\n",
    "n= sum(resultados.m_i) #tamaño de muestra \n",
    "media_est= 1/n * sum(resultados.w_i)\n",
    "varianza_est= (N-n)/(N*n*(n-1)) * sum((resultados.w_i .- media_est).^2)\n",
    "\n",
    "println(\"La media estimada= $media_est\")\n",
    "print(\"Con varianza=$varianza_est\")\n"
   ]
  },
  {
   "cell_type": "markdown",
   "metadata": {},
   "source": [
    "Por lo tanto el estimador total de la población sería $N \\cdot \\hat{\\mu} = 0.597 \\cdot 400= 238.8 \\approx 239$ de datos. En realidad se graficaron 450 datos."
   ]
  },
  {
   "cell_type": "markdown",
   "metadata": {},
   "source": []
  }
 ],
 "metadata": {
  "kernelspec": {
   "display_name": "Julia 1.9.3",
   "language": "julia",
   "name": "julia-1.9"
  },
  "language_info": {
   "file_extension": ".jl",
   "mimetype": "application/julia",
   "name": "julia",
   "version": "1.9.3"
  }
 },
 "nbformat": 4,
 "nbformat_minor": 4
}
